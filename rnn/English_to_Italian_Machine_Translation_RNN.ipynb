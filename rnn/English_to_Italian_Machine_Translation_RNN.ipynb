{
  "cells": [
    {
      "cell_type": "markdown",
      "metadata": {
        "id": "wgAjMVJuKpth"
      },
      "source": [
        "## UTILITY"
      ]
    },
    {
      "cell_type": "code",
      "source": [
        "import random\n",
        "import numpy as np\n",
        "import string\n",
        "import re\n",
        "import tensorflow as tf\n",
        "from tensorflow import keras\n",
        "from tensorflow.keras import layers\n",
        "from tensorflow.keras import layers, Model, Input"
      ],
      "metadata": {
        "id": "rQ-v6Qxwdp_x"
      },
      "execution_count": 1,
      "outputs": []
    },
    {
      "cell_type": "markdown",
      "source": [
        "# DATA DOWNLOAD AND REVIEW"
      ],
      "metadata": {
        "id": "W_uU_f-_eEMb"
      }
    },
    {
      "cell_type": "markdown",
      "source": [
        "**Download data from the source**"
      ],
      "metadata": {
        "id": "LhGJzKlreQDX"
      }
    },
    {
      "cell_type": "code",
      "execution_count": 2,
      "metadata": {
        "colab": {
          "base_uri": "https://localhost:8080/"
        },
        "id": "nsnM4WlBKpth",
        "outputId": "6ca1b1c9-eeee-444f-80bc-9f239c848389"
      },
      "outputs": [
        {
          "output_type": "stream",
          "name": "stdout",
          "text": [
            "--2024-08-02 00:53:10--  https://www.manythings.org/anki/ita-eng.zip\n",
            "Resolving www.manythings.org (www.manythings.org)... 173.254.30.110\n",
            "Connecting to www.manythings.org (www.manythings.org)|173.254.30.110|:443... connected.\n",
            "HTTP request sent, awaiting response... 200 OK\n",
            "Length: 8326901 (7.9M) [application/zip]\n",
            "Saving to: ‘ita-eng.zip’\n",
            "\n",
            "ita-eng.zip         100%[===================>]   7.94M  4.41MB/s    in 1.8s    \n",
            "\n",
            "2024-08-02 00:53:13 (4.41 MB/s) - ‘ita-eng.zip’ saved [8326901/8326901]\n",
            "\n"
          ]
        }
      ],
      "source": [
        "!wget https://www.manythings.org/anki/ita-eng.zip\n",
        "!unzip -q ita-eng.zip"
      ]
    },
    {
      "cell_type": "markdown",
      "source": [
        "**Open and read the file and create pairs**"
      ],
      "metadata": {
        "id": "LVpyNglgeWus"
      }
    },
    {
      "cell_type": "code",
      "execution_count": 6,
      "metadata": {
        "id": "YOm2HFFxKpti"
      },
      "outputs": [],
      "source": [
        "text_file = '/content/ita.txt'\n",
        "with open(text_file) as f:\n",
        "    lines = f.read().split('\\n')[:-1]\n",
        "\n",
        "text_pairs = []\n",
        "\n",
        "# Create English and Italian pairs of sentences.\n",
        "for line in lines:\n",
        "    english, italian, ignore = line.split('\\t')\n",
        "    italian = '[start] ' + italian + ' [end]'\n",
        "    text_pairs.append((english, italian))"
      ]
    },
    {
      "cell_type": "code",
      "execution_count": 10,
      "metadata": {
        "id": "_E8D2F8MKpti",
        "colab": {
          "base_uri": "https://localhost:8080/"
        },
        "outputId": "da412d04-0d9b-4973-bd6f-a19e444d808f"
      },
      "outputs": [
        {
          "output_type": "stream",
          "name": "stdout",
          "text": [
            "('Tom asked Mary to be his secretary.', '[start] Tom chiese a Mary di essere la sua segretaria. [end]')\n",
            "377937\n"
          ]
        }
      ],
      "source": [
        "# Randonly display a pair.\n",
        "print(random.choice(text_pairs))\n",
        "\n",
        "# Display the count of pairs.\n",
        "print(len(text_pairs))"
      ]
    },
    {
      "cell_type": "markdown",
      "source": [
        "# DATA SPLIT"
      ],
      "metadata": {
        "id": "Jk5scRtCeuEx"
      }
    },
    {
      "cell_type": "code",
      "execution_count": 11,
      "metadata": {
        "id": "PqDYqHPtKptj"
      },
      "outputs": [],
      "source": [
        "# Randomly shuffle the pairs.\n",
        "random.shuffle(text_pairs)\n",
        "\n",
        "num_val_samples = int(0.15 * len(text_pairs))\n",
        "num_train_samples = len(text_pairs) - 2 * num_val_samples\n",
        "\n",
        "# Split the pairs for training, validation and testing.\n",
        "train_pairs = text_pairs[:num_train_samples]\n",
        "val_pairs = text_pairs[num_train_samples:num_train_samples + num_val_samples]\n",
        "test_pairs = text_pairs[num_train_samples + num_val_samples:]"
      ]
    },
    {
      "cell_type": "markdown",
      "source": [
        "# DATA PROCESSING"
      ],
      "metadata": {
        "id": "UD6aVe96e1gn"
      }
    },
    {
      "cell_type": "markdown",
      "metadata": {
        "id": "g9L3sVc8Kptj"
      },
      "source": [
        "**Vectorizing the English and Italian text pairs**"
      ]
    },
    {
      "cell_type": "code",
      "execution_count": 13,
      "metadata": {
        "id": "pnoTzBxnKptk"
      },
      "outputs": [],
      "source": [
        "# Strip all the punctuations.\n",
        "strip_chars = string.punctuation\n",
        "\n",
        "#  Preserve the \"[start]\" and \"[end]\" tokens that we’ve inserted.\n",
        "strip_chars = strip_chars.replace('[', '')\n",
        "strip_chars = strip_chars.replace(']', '')\n",
        "\n",
        "def custom_standardization(input_string):\n",
        "    lowercase = tf.strings.lower(input_string)\n",
        "    return tf.strings.regex_replace(\n",
        "        lowercase, f'[{re.escape(strip_chars)}]', '')\n",
        "\n",
        "# Top n_words to consider.\n",
        "vocab_size = 15000\n",
        "\n",
        "# Restrict sentences to 20 words.\n",
        "sequence_length = 20\n",
        "\n",
        "# Create a TextVectorization layer for the source text\n",
        "source_vectorization = layers.TextVectorization(\n",
        "    max_tokens=vocab_size,  # Maximum number of unique words to consider\n",
        "    output_mode='int',  # Convert words to integer indices\n",
        "    output_sequence_length=sequence_length,  # Length of the output sequences\n",
        ")\n",
        "\n",
        "# Create a TextVectorization layer for the target text\n",
        "target_vectorization = layers.TextVectorization(\n",
        "    max_tokens=vocab_size,  # Maximum number of unique words to consider\n",
        "    output_mode='int',  # Convert words to integer indices\n",
        "    output_sequence_length=sequence_length + 1,  # Length of the output sequences (1 more than source)\n",
        "    standardize=custom_standardization,  # Apply a custom standardization process\n",
        ")\n",
        "\n",
        "train_english_texts = [pair[0] for pair in train_pairs]\n",
        "train_italian_texts = [pair[1] for pair in train_pairs]\n",
        "\n",
        "# Learn the vocabulary of each language.\n",
        "source_vectorization.adapt(train_english_texts)\n",
        "target_vectorization.adapt(train_italian_texts)"
      ]
    },
    {
      "cell_type": "markdown",
      "metadata": {
        "id": "c-7kBAS5Kptk"
      },
      "source": [
        "**Preparing datasets for the translation task**"
      ]
    },
    {
      "cell_type": "code",
      "execution_count": 15,
      "metadata": {
        "id": "_OZOnITVKptk"
      },
      "outputs": [],
      "source": [
        "# Set the batch size for the dataset\n",
        "batch_size = 64\n",
        "\n",
        "def format_dataset(eng, ita):\n",
        "    # Apply text vectorization to the English and Italian texts\n",
        "    eng = source_vectorization(eng)\n",
        "    ita = target_vectorization(ita)\n",
        "\n",
        "    # Return a dictionary with English and Italian inputs and Italian outputs\n",
        "    return ({\n",
        "        'english': eng,             # Input: English text\n",
        "        'italian': ita[:, :-1],     # Input: Italian text (excluding the last token)\n",
        "    }, ita[:, 1:])                  # Output: Italian text (excluding the first token)\n",
        "\n",
        "def make_dataset(pairs):\n",
        "    # Unpack the pairs of English and Italian texts\n",
        "    eng_texts, ita_texts = zip(*pairs)\n",
        "\n",
        "    # Convert texts to lists\n",
        "    eng_texts = list(eng_texts)\n",
        "    ita_texts = list(ita_texts)\n",
        "\n",
        "    # Create a TensorFlow dataset from the texts\n",
        "    dataset = tf.data.Dataset.from_tensor_slices((eng_texts, ita_texts))\n",
        "\n",
        "    # Group texts into batches\n",
        "    dataset = dataset.batch(batch_size)\n",
        "\n",
        "    # Apply the format_dataset function to each batch\n",
        "    dataset = dataset.map(format_dataset, num_parallel_calls=4)\n",
        "\n",
        "    # Shuffle, prefetch, and cache the dataset for better performance\n",
        "    return dataset.shuffle(2048).prefetch(16).cache()\n",
        "\n",
        "# Create training and validation datasets\n",
        "train_ds = make_dataset(train_pairs)\n",
        "val_ds = make_dataset(val_pairs)"
      ]
    },
    {
      "cell_type": "code",
      "execution_count": 17,
      "metadata": {
        "id": "09E7b79zKptl",
        "colab": {
          "base_uri": "https://localhost:8080/"
        },
        "outputId": "30f4bd97-c736-44aa-aea5-a5b8e479e867"
      },
      "outputs": [
        {
          "output_type": "stream",
          "name": "stdout",
          "text": [
            "inputs['english'].shape: (64, 20)\n",
            "inputs['spanish'].shape: (64, 20)\n",
            "targets.shape: (64, 20)\n"
          ]
        }
      ],
      "source": [
        "for inputs, targets in train_ds.take(1):\n",
        "    print(f\"inputs['english'].shape: {inputs['english'].shape}\")\n",
        "    print(f\"inputs['italian'].shape: {inputs['italian'].shape}\")\n",
        "    print(f\"targets.shape: {targets.shape}\")"
      ]
    },
    {
      "cell_type": "markdown",
      "source": [
        "# SEQUENCE-TO-SEQUENCE LEARNING WITH RNN"
      ],
      "metadata": {
        "id": "ZYTZQuxVe8i4"
      }
    },
    {
      "cell_type": "markdown",
      "source": [
        "**GRU-based encoder**"
      ],
      "metadata": {
        "id": "4XFL8n3SjSFa"
      }
    },
    {
      "cell_type": "code",
      "execution_count": 18,
      "metadata": {
        "id": "ay_gORK5Kptm"
      },
      "outputs": [],
      "source": [
        "embed_dim = 256\n",
        "latent_dim = 1024\n",
        "\n",
        "source = keras.Input(shape=(None,), dtype=\"int64\", name=\"english\")\n",
        "x = layers.Embedding(vocab_size, embed_dim, mask_zero=True)(source)\n",
        "encoded_source = layers.Bidirectional(\n",
        "    layers.GRU(latent_dim), merge_mode=\"sum\")(x)"
      ]
    },
    {
      "cell_type": "markdown",
      "source": [
        "**GRU-based decoder and the end-to-end model**"
      ],
      "metadata": {
        "id": "SZl28t7_jWP5"
      }
    },
    {
      "cell_type": "code",
      "source": [
        "past_target = keras.Input(shape=(None,), dtype=\"int64\", name=\"italian\")\n",
        "x = layers.Embedding(vocab_size, embed_dim, mask_zero=True)(past_target)\n",
        "decoder_gru = layers.GRU(latent_dim, return_sequences=True)\n",
        "x = decoder_gru(x, initial_state=encoded_source)\n",
        "x = layers.Dropout(0.5)(x)\n",
        "target_next_step = layers.Dense(vocab_size, activation=\"softmax\")(x)\n",
        "\n",
        "seq2seq_rnn = keras.Model([source, past_target], target_next_step)"
      ],
      "metadata": {
        "id": "lT4Uv8NGiW3u"
      },
      "execution_count": 19,
      "outputs": []
    },
    {
      "cell_type": "markdown",
      "source": [
        "**Training our recurrent sequence-to-sequence model**"
      ],
      "metadata": {
        "id": "6k1OGfTUietS"
      }
    },
    {
      "cell_type": "code",
      "source": [
        "seq2seq_rnn.compile(\n",
        "    optimizer=\"Adam\",\n",
        "    loss=\"sparse_categorical_crossentropy\",\n",
        "    metrics=[\"accuracy\"])\n",
        "\n",
        "seq2seq_rnn.fit(train_ds, epochs=15, validation_data=val_ds)"
      ],
      "metadata": {
        "colab": {
          "base_uri": "https://localhost:8080/"
        },
        "id": "H61NZx4eieFV",
        "outputId": "01037af4-8cb7-4e4f-e680-d33f7a45217f"
      },
      "execution_count": 20,
      "outputs": [
        {
          "output_type": "stream",
          "name": "stdout",
          "text": [
            "Epoch 1/15\n",
            "\u001b[1m4134/4134\u001b[0m \u001b[32m━━━━━━━━━━━━━━━━━━━━\u001b[0m\u001b[37m\u001b[0m \u001b[1m421s\u001b[0m 100ms/step - accuracy: 0.1898 - loss: 3.3509 - val_accuracy: 0.2744 - val_loss: 1.1147\n",
            "Epoch 2/15\n",
            "\u001b[1m4134/4134\u001b[0m \u001b[32m━━━━━━━━━━━━━━━━━━━━\u001b[0m\u001b[37m\u001b[0m \u001b[1m416s\u001b[0m 101ms/step - accuracy: 0.2711 - loss: 1.1606 - val_accuracy: 0.2910 - val_loss: 0.8118\n",
            "Epoch 3/15\n",
            "\u001b[1m4134/4134\u001b[0m \u001b[32m━━━━━━━━━━━━━━━━━━━━\u001b[0m\u001b[37m\u001b[0m \u001b[1m416s\u001b[0m 101ms/step - accuracy: 0.2893 - loss: 0.8205 - val_accuracy: 0.2961 - val_loss: 0.7375\n",
            "Epoch 4/15\n",
            "\u001b[1m4134/4134\u001b[0m \u001b[32m━━━━━━━━━━━━━━━━━━━━\u001b[0m\u001b[37m\u001b[0m \u001b[1m416s\u001b[0m 101ms/step - accuracy: 0.2979 - loss: 0.6861 - val_accuracy: 0.2983 - val_loss: 0.7079\n",
            "Epoch 5/15\n",
            "\u001b[1m4134/4134\u001b[0m \u001b[32m━━━━━━━━━━━━━━━━━━━━\u001b[0m\u001b[37m\u001b[0m \u001b[1m417s\u001b[0m 101ms/step - accuracy: 0.3026 - loss: 0.6146 - val_accuracy: 0.3005 - val_loss: 0.6968\n",
            "Epoch 6/15\n",
            "\u001b[1m4134/4134\u001b[0m \u001b[32m━━━━━━━━━━━━━━━━━━━━\u001b[0m\u001b[37m\u001b[0m \u001b[1m416s\u001b[0m 101ms/step - accuracy: 0.3072 - loss: 0.5682 - val_accuracy: 0.3015 - val_loss: 0.6928\n",
            "Epoch 7/15\n",
            "\u001b[1m4134/4134\u001b[0m \u001b[32m━━━━━━━━━━━━━━━━━━━━\u001b[0m\u001b[37m\u001b[0m \u001b[1m416s\u001b[0m 101ms/step - accuracy: 0.3097 - loss: 0.5378 - val_accuracy: 0.3008 - val_loss: 0.6941\n",
            "Epoch 8/15\n",
            "\u001b[1m4134/4134\u001b[0m \u001b[32m━━━━━━━━━━━━━━━━━━━━\u001b[0m\u001b[37m\u001b[0m \u001b[1m416s\u001b[0m 101ms/step - accuracy: 0.3101 - loss: 0.5161 - val_accuracy: 0.3016 - val_loss: 0.6895\n",
            "Epoch 9/15\n",
            "\u001b[1m4134/4134\u001b[0m \u001b[32m━━━━━━━━━━━━━━━━━━━━\u001b[0m\u001b[37m\u001b[0m \u001b[1m417s\u001b[0m 101ms/step - accuracy: 0.3122 - loss: 0.4986 - val_accuracy: 0.3015 - val_loss: 0.6895\n",
            "Epoch 10/15\n",
            "\u001b[1m4134/4134\u001b[0m \u001b[32m━━━━━━━━━━━━━━━━━━━━\u001b[0m\u001b[37m\u001b[0m \u001b[1m417s\u001b[0m 101ms/step - accuracy: 0.3128 - loss: 0.4851 - val_accuracy: 0.3021 - val_loss: 0.6950\n",
            "Epoch 11/15\n",
            "\u001b[1m4134/4134\u001b[0m \u001b[32m━━━━━━━━━━━━━━━━━━━━\u001b[0m\u001b[37m\u001b[0m \u001b[1m416s\u001b[0m 101ms/step - accuracy: 0.3145 - loss: 0.4734 - val_accuracy: 0.3021 - val_loss: 0.6955\n",
            "Epoch 12/15\n",
            "\u001b[1m4134/4134\u001b[0m \u001b[32m━━━━━━━━━━━━━━━━━━━━\u001b[0m\u001b[37m\u001b[0m \u001b[1m417s\u001b[0m 101ms/step - accuracy: 0.3148 - loss: 0.4638 - val_accuracy: 0.3019 - val_loss: 0.6976\n",
            "Epoch 13/15\n",
            "\u001b[1m4134/4134\u001b[0m \u001b[32m━━━━━━━━━━━━━━━━━━━━\u001b[0m\u001b[37m\u001b[0m \u001b[1m416s\u001b[0m 101ms/step - accuracy: 0.3152 - loss: 0.4566 - val_accuracy: 0.3016 - val_loss: 0.7009\n",
            "Epoch 14/15\n",
            "\u001b[1m4134/4134\u001b[0m \u001b[32m━━━━━━━━━━━━━━━━━━━━\u001b[0m\u001b[37m\u001b[0m \u001b[1m417s\u001b[0m 101ms/step - accuracy: 0.3150 - loss: 0.4513 - val_accuracy: 0.3019 - val_loss: 0.7024\n",
            "Epoch 15/15\n",
            "\u001b[1m4134/4134\u001b[0m \u001b[32m━━━━━━━━━━━━━━━━━━━━\u001b[0m\u001b[37m\u001b[0m \u001b[1m417s\u001b[0m 101ms/step - accuracy: 0.3160 - loss: 0.4442 - val_accuracy: 0.3027 - val_loss: 0.7006\n"
          ]
        },
        {
          "output_type": "execute_result",
          "data": {
            "text/plain": [
              "<keras.src.callbacks.history.History at 0x7ff2e8159030>"
            ]
          },
          "metadata": {},
          "execution_count": 20
        }
      ]
    },
    {
      "cell_type": "markdown",
      "source": [
        "**Translating new sentences with our RNN encoder and decoder**"
      ],
      "metadata": {
        "id": "V1seD-uGinpL"
      }
    },
    {
      "cell_type": "code",
      "source": [
        "ita_vocab = target_vectorization.get_vocabulary()\n",
        "ita_index_lookup = dict(zip(range(len(ita_vocab)), ita_vocab))\n",
        "max_decoded_sentence_length = 20\n",
        "\n",
        "def decode_sequence(input_sentence):\n",
        "    tokenized_input_sentence = source_vectorization([input_sentence])\n",
        "    decoded_sentence = \"[start]\"\n",
        "    for i in range(max_decoded_sentence_length):\n",
        "        tokenized_target_sentence = target_vectorization([decoded_sentence])\n",
        "        next_token_predictions = seq2seq_rnn.predict(\n",
        "            [tokenized_input_sentence, tokenized_target_sentence])\n",
        "        sampled_token_index = np.argmax(next_token_predictions[0, i, :])\n",
        "        sampled_token = ita_index_lookup[sampled_token_index]\n",
        "        decoded_sentence += \" \" + sampled_token\n",
        "        if sampled_token == \"[end]\":\n",
        "            break\n",
        "    return decoded_sentence\n",
        "\n",
        "test_eng_texts = [pair[0] for pair in test_pairs]\n",
        "for _ in range(5):\n",
        "    input_sentence = random.choice(test_eng_texts)\n",
        "    print(\"-\")\n",
        "    print(input_sentence)\n",
        "    print(decode_sequence(input_sentence))"
      ],
      "metadata": {
        "colab": {
          "base_uri": "https://localhost:8080/"
        },
        "id": "c7GENdbqiv-h",
        "outputId": "625f0385-5aa7-4c93-ae8a-60a7703982c7"
      },
      "execution_count": 21,
      "outputs": [
        {
          "output_type": "stream",
          "name": "stdout",
          "text": [
            "-\n",
            "Tom tried to explain everything to Mary.\n",
            "\u001b[1m1/1\u001b[0m \u001b[32m━━━━━━━━━━━━━━━━━━━━\u001b[0m\u001b[37m\u001b[0m \u001b[1m0s\u001b[0m 294ms/step\n",
            "\u001b[1m1/1\u001b[0m \u001b[32m━━━━━━━━━━━━━━━━━━━━\u001b[0m\u001b[37m\u001b[0m \u001b[1m0s\u001b[0m 22ms/step\n",
            "\u001b[1m1/1\u001b[0m \u001b[32m━━━━━━━━━━━━━━━━━━━━\u001b[0m\u001b[37m\u001b[0m \u001b[1m0s\u001b[0m 22ms/step\n",
            "\u001b[1m1/1\u001b[0m \u001b[32m━━━━━━━━━━━━━━━━━━━━\u001b[0m\u001b[37m\u001b[0m \u001b[1m0s\u001b[0m 22ms/step\n",
            "\u001b[1m1/1\u001b[0m \u001b[32m━━━━━━━━━━━━━━━━━━━━\u001b[0m\u001b[37m\u001b[0m \u001b[1m0s\u001b[0m 22ms/step\n",
            "\u001b[1m1/1\u001b[0m \u001b[32m━━━━━━━━━━━━━━━━━━━━\u001b[0m\u001b[37m\u001b[0m \u001b[1m0s\u001b[0m 22ms/step\n",
            "\u001b[1m1/1\u001b[0m \u001b[32m━━━━━━━━━━━━━━━━━━━━\u001b[0m\u001b[37m\u001b[0m \u001b[1m0s\u001b[0m 21ms/step\n",
            "\u001b[1m1/1\u001b[0m \u001b[32m━━━━━━━━━━━━━━━━━━━━\u001b[0m\u001b[37m\u001b[0m \u001b[1m0s\u001b[0m 22ms/step\n",
            "\u001b[1m1/1\u001b[0m \u001b[32m━━━━━━━━━━━━━━━━━━━━\u001b[0m\u001b[37m\u001b[0m \u001b[1m0s\u001b[0m 22ms/step\n",
            "[start] tom ha cercato di spiegare tutto a mary [end]\n",
            "-\n",
            "Tom is afraid of you.\n",
            "\u001b[1m1/1\u001b[0m \u001b[32m━━━━━━━━━━━━━━━━━━━━\u001b[0m\u001b[37m\u001b[0m \u001b[1m0s\u001b[0m 23ms/step\n",
            "\u001b[1m1/1\u001b[0m \u001b[32m━━━━━━━━━━━━━━━━━━━━\u001b[0m\u001b[37m\u001b[0m \u001b[1m0s\u001b[0m 21ms/step\n",
            "\u001b[1m1/1\u001b[0m \u001b[32m━━━━━━━━━━━━━━━━━━━━\u001b[0m\u001b[37m\u001b[0m \u001b[1m0s\u001b[0m 21ms/step\n",
            "\u001b[1m1/1\u001b[0m \u001b[32m━━━━━━━━━━━━━━━━━━━━\u001b[0m\u001b[37m\u001b[0m \u001b[1m0s\u001b[0m 23ms/step\n",
            "\u001b[1m1/1\u001b[0m \u001b[32m━━━━━━━━━━━━━━━━━━━━\u001b[0m\u001b[37m\u001b[0m \u001b[1m0s\u001b[0m 23ms/step\n",
            "\u001b[1m1/1\u001b[0m \u001b[32m━━━━━━━━━━━━━━━━━━━━\u001b[0m\u001b[37m\u001b[0m \u001b[1m0s\u001b[0m 22ms/step\n",
            "[start] tom ha paura di voi [end]\n",
            "-\n",
            "It took me some time to persuade her.\n",
            "\u001b[1m1/1\u001b[0m \u001b[32m━━━━━━━━━━━━━━━━━━━━\u001b[0m\u001b[37m\u001b[0m \u001b[1m0s\u001b[0m 23ms/step\n",
            "\u001b[1m1/1\u001b[0m \u001b[32m━━━━━━━━━━━━━━━━━━━━\u001b[0m\u001b[37m\u001b[0m \u001b[1m0s\u001b[0m 21ms/step\n",
            "\u001b[1m1/1\u001b[0m \u001b[32m━━━━━━━━━━━━━━━━━━━━\u001b[0m\u001b[37m\u001b[0m \u001b[1m0s\u001b[0m 22ms/step\n",
            "\u001b[1m1/1\u001b[0m \u001b[32m━━━━━━━━━━━━━━━━━━━━\u001b[0m\u001b[37m\u001b[0m \u001b[1m0s\u001b[0m 21ms/step\n",
            "\u001b[1m1/1\u001b[0m \u001b[32m━━━━━━━━━━━━━━━━━━━━\u001b[0m\u001b[37m\u001b[0m \u001b[1m0s\u001b[0m 21ms/step\n",
            "\u001b[1m1/1\u001b[0m \u001b[32m━━━━━━━━━━━━━━━━━━━━\u001b[0m\u001b[37m\u001b[0m \u001b[1m0s\u001b[0m 22ms/step\n",
            "\u001b[1m1/1\u001b[0m \u001b[32m━━━━━━━━━━━━━━━━━━━━\u001b[0m\u001b[37m\u001b[0m \u001b[1m0s\u001b[0m 22ms/step\n",
            "\u001b[1m1/1\u001b[0m \u001b[32m━━━━━━━━━━━━━━━━━━━━\u001b[0m\u001b[37m\u001b[0m \u001b[1m0s\u001b[0m 22ms/step\n",
            "\u001b[1m1/1\u001b[0m \u001b[32m━━━━━━━━━━━━━━━━━━━━\u001b[0m\u001b[37m\u001b[0m \u001b[1m0s\u001b[0m 22ms/step\n",
            "\u001b[1m1/1\u001b[0m \u001b[32m━━━━━━━━━━━━━━━━━━━━\u001b[0m\u001b[37m\u001b[0m \u001b[1m0s\u001b[0m 22ms/step\n",
            "[start] mi ci volle un po di tempo per [UNK] [end]\n",
            "-\n",
            "Your watch is more expensive than mine.\n",
            "\u001b[1m1/1\u001b[0m \u001b[32m━━━━━━━━━━━━━━━━━━━━\u001b[0m\u001b[37m\u001b[0m \u001b[1m0s\u001b[0m 22ms/step\n",
            "\u001b[1m1/1\u001b[0m \u001b[32m━━━━━━━━━━━━━━━━━━━━\u001b[0m\u001b[37m\u001b[0m \u001b[1m0s\u001b[0m 21ms/step\n",
            "\u001b[1m1/1\u001b[0m \u001b[32m━━━━━━━━━━━━━━━━━━━━\u001b[0m\u001b[37m\u001b[0m \u001b[1m0s\u001b[0m 22ms/step\n",
            "\u001b[1m1/1\u001b[0m \u001b[32m━━━━━━━━━━━━━━━━━━━━\u001b[0m\u001b[37m\u001b[0m \u001b[1m0s\u001b[0m 21ms/step\n",
            "\u001b[1m1/1\u001b[0m \u001b[32m━━━━━━━━━━━━━━━━━━━━\u001b[0m\u001b[37m\u001b[0m \u001b[1m0s\u001b[0m 21ms/step\n",
            "\u001b[1m1/1\u001b[0m \u001b[32m━━━━━━━━━━━━━━━━━━━━\u001b[0m\u001b[37m\u001b[0m \u001b[1m0s\u001b[0m 21ms/step\n",
            "\u001b[1m1/1\u001b[0m \u001b[32m━━━━━━━━━━━━━━━━━━━━\u001b[0m\u001b[37m\u001b[0m \u001b[1m0s\u001b[0m 21ms/step\n",
            "\u001b[1m1/1\u001b[0m \u001b[32m━━━━━━━━━━━━━━━━━━━━\u001b[0m\u001b[37m\u001b[0m \u001b[1m0s\u001b[0m 21ms/step\n",
            "\u001b[1m1/1\u001b[0m \u001b[32m━━━━━━━━━━━━━━━━━━━━\u001b[0m\u001b[37m\u001b[0m \u001b[1m0s\u001b[0m 21ms/step\n",
            "[start] il vostro orologio è più costoso del mio [end]\n",
            "-\n",
            "Tom spent Christmas in Australia with me.\n",
            "\u001b[1m1/1\u001b[0m \u001b[32m━━━━━━━━━━━━━━━━━━━━\u001b[0m\u001b[37m\u001b[0m \u001b[1m0s\u001b[0m 21ms/step\n",
            "\u001b[1m1/1\u001b[0m \u001b[32m━━━━━━━━━━━━━━━━━━━━\u001b[0m\u001b[37m\u001b[0m \u001b[1m0s\u001b[0m 21ms/step\n",
            "\u001b[1m1/1\u001b[0m \u001b[32m━━━━━━━━━━━━━━━━━━━━\u001b[0m\u001b[37m\u001b[0m \u001b[1m0s\u001b[0m 22ms/step\n",
            "\u001b[1m1/1\u001b[0m \u001b[32m━━━━━━━━━━━━━━━━━━━━\u001b[0m\u001b[37m\u001b[0m \u001b[1m0s\u001b[0m 21ms/step\n",
            "\u001b[1m1/1\u001b[0m \u001b[32m━━━━━━━━━━━━━━━━━━━━\u001b[0m\u001b[37m\u001b[0m \u001b[1m0s\u001b[0m 22ms/step\n",
            "\u001b[1m1/1\u001b[0m \u001b[32m━━━━━━━━━━━━━━━━━━━━\u001b[0m\u001b[37m\u001b[0m \u001b[1m0s\u001b[0m 22ms/step\n",
            "\u001b[1m1/1\u001b[0m \u001b[32m━━━━━━━━━━━━━━━━━━━━\u001b[0m\u001b[37m\u001b[0m \u001b[1m0s\u001b[0m 21ms/step\n",
            "\u001b[1m1/1\u001b[0m \u001b[32m━━━━━━━━━━━━━━━━━━━━\u001b[0m\u001b[37m\u001b[0m \u001b[1m0s\u001b[0m 22ms/step\n",
            "\u001b[1m1/1\u001b[0m \u001b[32m━━━━━━━━━━━━━━━━━━━━\u001b[0m\u001b[37m\u001b[0m \u001b[1m0s\u001b[0m 22ms/step\n",
            "\u001b[1m1/1\u001b[0m \u001b[32m━━━━━━━━━━━━━━━━━━━━\u001b[0m\u001b[37m\u001b[0m \u001b[1m0s\u001b[0m 22ms/step\n",
            "[start] tom ha trascorso il natale in australia con me [end]\n"
          ]
        }
      ]
    },
    {
      "cell_type": "markdown",
      "source": [
        "**Translating a random sentence**"
      ],
      "metadata": {
        "id": "i93I_FTwfGeX"
      }
    },
    {
      "cell_type": "code",
      "source": [
        "input_sentence = 'The day is beautiful.'\n",
        "print(decode_sequence(input_sentence))"
      ],
      "metadata": {
        "colab": {
          "base_uri": "https://localhost:8080/"
        },
        "id": "bAX5jDJJZejn",
        "outputId": "cd27a489-91ca-42b8-c34b-06d73897fcd1"
      },
      "execution_count": 22,
      "outputs": [
        {
          "output_type": "stream",
          "name": "stdout",
          "text": [
            "\u001b[1m1/1\u001b[0m \u001b[32m━━━━━━━━━━━━━━━━━━━━\u001b[0m\u001b[37m\u001b[0m \u001b[1m0s\u001b[0m 21ms/step\n",
            "\u001b[1m1/1\u001b[0m \u001b[32m━━━━━━━━━━━━━━━━━━━━\u001b[0m\u001b[37m\u001b[0m \u001b[1m0s\u001b[0m 21ms/step\n",
            "\u001b[1m1/1\u001b[0m \u001b[32m━━━━━━━━━━━━━━━━━━━━\u001b[0m\u001b[37m\u001b[0m \u001b[1m0s\u001b[0m 21ms/step\n",
            "\u001b[1m1/1\u001b[0m \u001b[32m━━━━━━━━━━━━━━━━━━━━\u001b[0m\u001b[37m\u001b[0m \u001b[1m0s\u001b[0m 22ms/step\n",
            "\u001b[1m1/1\u001b[0m \u001b[32m━━━━━━━━━━━━━━━━━━━━\u001b[0m\u001b[37m\u001b[0m \u001b[1m0s\u001b[0m 22ms/step\n",
            "[start] la giornata è bella [end]\n"
          ]
        }
      ]
    },
    {
      "cell_type": "markdown",
      "source": [
        "# LIMITATIONS"
      ],
      "metadata": {
        "id": "SFeYjuC5q2If"
      }
    },
    {
      "cell_type": "markdown",
      "source": [
        "- The encoder state vector(s) must hold the entire source sequence, limiting the size and complexity of translatable sentences. It's like translating a sentence from memory without rereading it.\n",
        "\n",
        "- RNNs struggle with long sequences because they gradually forget earlier information. By the 100th token, there's little left from the start of the sequence."
      ],
      "metadata": {
        "id": "kB6XD99GrHZy"
      }
    }
  ],
  "metadata": {
    "colab": {
      "provenance": [],
      "machine_shape": "hm",
      "gpuType": "L4"
    },
    "kernelspec": {
      "display_name": "Python 3",
      "name": "python3"
    },
    "language_info": {
      "codemirror_mode": {
        "name": "ipython",
        "version": 3
      },
      "file_extension": ".py",
      "mimetype": "text/x-python",
      "name": "python",
      "nbconvert_exporter": "python",
      "pygments_lexer": "ipython3",
      "version": "3.7.0"
    },
    "accelerator": "GPU"
  },
  "nbformat": 4,
  "nbformat_minor": 0
}
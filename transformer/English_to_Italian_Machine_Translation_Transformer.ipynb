{
  "cells": [
    {
      "cell_type": "markdown",
      "metadata": {
        "id": "_qF7IWWBr2-H"
      },
      "source": [
        "# INTRODUCTION"
      ]
    },
    {
      "cell_type": "markdown",
      "metadata": {
        "id": "dC77TnaHr5it"
      },
      "source": [
        "We will use the transformer architecture for machine translation. The transformer's encoder processes input sequences to create context-aware representations, the decoder generates output sequences from these representations, and the attention mechanism helps both components focus on relevant parts of the sequences."
      ]
    },
    {
      "cell_type": "markdown",
      "metadata": {
        "id": "wgAjMVJuKpth"
      },
      "source": [
        "## UTILITY"
      ]
    },
    {
      "cell_type": "code",
      "execution_count": 1,
      "metadata": {
        "id": "rQ-v6Qxwdp_x"
      },
      "outputs": [],
      "source": [
        "import random\n",
        "import numpy as np\n",
        "import string\n",
        "import re\n",
        "import tensorflow as tf\n",
        "from tensorflow import keras\n",
        "from tensorflow.keras import layers\n",
        "from tensorflow.keras import layers, Model, Input"
      ]
    },
    {
      "cell_type": "markdown",
      "metadata": {
        "id": "W_uU_f-_eEMb"
      },
      "source": [
        "# DATA DOWNLOAD AND REVIEW"
      ]
    },
    {
      "cell_type": "markdown",
      "metadata": {
        "id": "LhGJzKlreQDX"
      },
      "source": [
        "**Download data from the source**"
      ]
    },
    {
      "cell_type": "code",
      "execution_count": 3,
      "metadata": {
        "colab": {
          "base_uri": "https://localhost:8080/"
        },
        "id": "nsnM4WlBKpth",
        "outputId": "db39fb7f-4e0f-4c8f-a219-30a185055d86"
      },
      "outputs": [
        {
          "name": "stdout",
          "output_type": "stream",
          "text": [
            "--2024-08-02 00:24:45--  https://www.manythings.org/anki/ita-eng.zip\n",
            "Resolving www.manythings.org (www.manythings.org)... 173.254.30.110\n",
            "Connecting to www.manythings.org (www.manythings.org)|173.254.30.110|:443... connected.\n",
            "HTTP request sent, awaiting response... 200 OK\n",
            "Length: 8326901 (7.9M) [application/zip]\n",
            "Saving to: ‘ita-eng.zip’\n",
            "\n",
            "ita-eng.zip         100%[===================>]   7.94M  4.31MB/s    in 1.8s    \n",
            "\n",
            "2024-08-02 00:24:48 (4.31 MB/s) - ‘ita-eng.zip’ saved [8326901/8326901]\n",
            "\n"
          ]
        }
      ],
      "source": [
        "!wget https://www.manythings.org/anki/ita-eng.zip\n",
        "!unzip -q ita-eng.zip"
      ]
    },
    {
      "cell_type": "markdown",
      "metadata": {
        "id": "LVpyNglgeWus"
      },
      "source": [
        "**Open and read the file and create pairs**"
      ]
    },
    {
      "cell_type": "code",
      "execution_count": 6,
      "metadata": {
        "id": "YOm2HFFxKpti"
      },
      "outputs": [],
      "source": [
        "text_file = '/content/ita.txt'\n",
        "with open(text_file) as f:\n",
        "    lines = f.read().split('\\n')[:-1]\n",
        "\n",
        "text_pairs = []\n",
        "\n",
        "# Create English and Italian pairs of sentences.\n",
        "for line in lines:\n",
        "    english, italian, ignore = line.split('\\t')\n",
        "    italian = '[start] ' + italian + ' [end]'\n",
        "    text_pairs.append((english, italian))"
      ]
    },
    {
      "cell_type": "code",
      "execution_count": 7,
      "metadata": {
        "colab": {
          "base_uri": "https://localhost:8080/"
        },
        "id": "_E8D2F8MKpti",
        "outputId": "88efb129-7109-4419-c807-bf4e417356cd"
      },
      "outputs": [
        {
          "name": "stdout",
          "output_type": "stream",
          "text": [
            "(\"Tom said he's proud of his children.\", '[start] Tom ha detto di essere orgoglioso dei suoi figli. [end]')\n",
            "377937\n"
          ]
        }
      ],
      "source": [
        "# Randonly display a pair.\n",
        "print(random.choice(text_pairs))\n",
        "\n",
        "# Display the count of pairs.\n",
        "print(len(text_pairs))"
      ]
    },
    {
      "cell_type": "markdown",
      "metadata": {
        "id": "Jk5scRtCeuEx"
      },
      "source": [
        "# DATA SPLIT"
      ]
    },
    {
      "cell_type": "code",
      "execution_count": 8,
      "metadata": {
        "id": "PqDYqHPtKptj"
      },
      "outputs": [],
      "source": [
        "# Randomly shuffle the pairs.\n",
        "random.shuffle(text_pairs)\n",
        "\n",
        "num_val_samples = int(0.15 * len(text_pairs))\n",
        "num_train_samples = len(text_pairs) - 2 * num_val_samples\n",
        "\n",
        "# Split the pairs for training, validation and testing.\n",
        "train_pairs = text_pairs[:num_train_samples]\n",
        "val_pairs = text_pairs[num_train_samples:num_train_samples + num_val_samples]\n",
        "test_pairs = text_pairs[num_train_samples + num_val_samples:]"
      ]
    },
    {
      "cell_type": "markdown",
      "metadata": {
        "id": "UD6aVe96e1gn"
      },
      "source": [
        "# DATA PROCESSING"
      ]
    },
    {
      "cell_type": "markdown",
      "metadata": {
        "id": "g9L3sVc8Kptj"
      },
      "source": [
        "**Vectorizing the English and Italian text pairs**\n",
        "\n"
      ]
    },
    {
      "cell_type": "code",
      "execution_count": 9,
      "metadata": {
        "id": "pnoTzBxnKptk"
      },
      "outputs": [],
      "source": [
        "# Strip all the punctuations.\n",
        "strip_chars = string.punctuation\n",
        "\n",
        "#  Preserve the \"[start]\" and \"[end]\" tokens that we’ve inserted.\n",
        "strip_chars = strip_chars.replace('[', '')\n",
        "strip_chars = strip_chars.replace(']', '')\n",
        "\n",
        "def custom_standardization(input_string):\n",
        "    lowercase = tf.strings.lower(input_string)\n",
        "    return tf.strings.regex_replace(\n",
        "        lowercase, f'[{re.escape(strip_chars)}]', '')\n",
        "\n",
        "# Top n_words to consider.\n",
        "vocab_size = 15000\n",
        "\n",
        "# Restrict sentences to 20 words.\n",
        "sequence_length = 20\n",
        "\n",
        "# Create a TextVectorization layer for the source text\n",
        "source_vectorization = layers.TextVectorization(\n",
        "    max_tokens=vocab_size,  # Maximum number of unique words to consider\n",
        "    output_mode='int',  # Convert words to integer indices\n",
        "    output_sequence_length=sequence_length,  # Length of the output sequences\n",
        ")\n",
        "\n",
        "# Create a TextVectorization layer for the target text\n",
        "target_vectorization = layers.TextVectorization(\n",
        "    max_tokens=vocab_size,  # Maximum number of unique words to consider\n",
        "    output_mode='int',  # Convert words to integer indices\n",
        "    output_sequence_length=sequence_length + 1,  # Length of the output sequences (1 more than source)\n",
        "    standardize=custom_standardization,  # Apply a custom standardization process\n",
        ")\n",
        "\n",
        "train_english_texts = [pair[0] for pair in train_pairs]\n",
        "train_italian_texts = [pair[1] for pair in train_pairs]\n",
        "\n",
        "# Learn the vocabulary of each language.\n",
        "source_vectorization.adapt(train_english_texts)\n",
        "target_vectorization.adapt(train_italian_texts)"
      ]
    },
    {
      "cell_type": "markdown",
      "metadata": {
        "id": "c-7kBAS5Kptk"
      },
      "source": [
        "**Preparing datasets for the translation task**"
      ]
    },
    {
      "cell_type": "code",
      "execution_count": 10,
      "metadata": {
        "id": "_OZOnITVKptk"
      },
      "outputs": [],
      "source": [
        "# Set the batch size for the dataset\n",
        "batch_size = 64\n",
        "\n",
        "def format_dataset(eng, ita):\n",
        "    # Apply text vectorization to the English and italian texts\n",
        "    eng = source_vectorization(eng)\n",
        "    ita = target_vectorization(ita)\n",
        "\n",
        "    # Return a dictionary with English and Italian inputs and italian outputs\n",
        "    return ({\n",
        "        'english': eng,             # Input: English text\n",
        "        'italian': ita[:, :-1],     # Input: Italian text (excluding the last token)\n",
        "    }, ita[:, 1:])                  # Output: Italian text (excluding the first token)\n",
        "\n",
        "def make_dataset(pairs):\n",
        "    # Unpack the pairs of English and Italian texts\n",
        "    eng_texts, ita_texts = zip(*pairs)\n",
        "\n",
        "    # Convert texts to lists\n",
        "    eng_texts = list(eng_texts)\n",
        "    ita_texts = list(ita_texts)\n",
        "\n",
        "    # Create a TensorFlow dataset from the texts\n",
        "    dataset = tf.data.Dataset.from_tensor_slices((eng_texts, ita_texts))\n",
        "\n",
        "    # Group texts into batches\n",
        "    dataset = dataset.batch(batch_size)\n",
        "\n",
        "    # Apply the format_dataset function to each batch\n",
        "    dataset = dataset.map(format_dataset, num_parallel_calls=4)\n",
        "\n",
        "    # Shuffle, prefetch, and cache the dataset for better performance\n",
        "    return dataset.shuffle(2048).prefetch(16).cache()\n",
        "\n",
        "# Create training and validation datasets\n",
        "train_ds = make_dataset(train_pairs)\n",
        "val_ds = make_dataset(val_pairs)"
      ]
    },
    {
      "cell_type": "code",
      "execution_count": 12,
      "metadata": {
        "colab": {
          "base_uri": "https://localhost:8080/"
        },
        "id": "09E7b79zKptl",
        "outputId": "6a3fda76-126d-419e-e803-5cdf51b9a942"
      },
      "outputs": [
        {
          "name": "stdout",
          "output_type": "stream",
          "text": [
            "inputs['english'].shape: (64, 20)\n",
            "inputs['spanish'].shape: (64, 20)\n",
            "targets.shape: (64, 20)\n"
          ]
        }
      ],
      "source": [
        "for inputs, targets in train_ds.take(1):\n",
        "    print(f\"inputs['english'].shape: {inputs['english'].shape}\")\n",
        "    print(f\"inputs['italian'].shape: {inputs['italian'].shape}\")\n",
        "    print(f\"targets.shape: {targets.shape}\")"
      ]
    },
    {
      "cell_type": "markdown",
      "metadata": {
        "id": "ZYTZQuxVe8i4"
      },
      "source": [
        "# SEQUENCE-TO-SEQUENCE LEARNING WITH A TRANSFORMER"
      ]
    },
    {
      "cell_type": "code",
      "execution_count": 13,
      "metadata": {
        "id": "4mx--XWEKptm"
      },
      "outputs": [],
      "source": [
        "class TransformerDecoder(layers.Layer):\n",
        "    def __init__(self, embed_dim, dense_dim, num_heads, **kwargs):\n",
        "        super().__init__(**kwargs)\n",
        "        self.embed_dim = embed_dim\n",
        "        self.dense_dim = dense_dim\n",
        "        self.num_heads = num_heads\n",
        "        self.attention_1 = layers.MultiHeadAttention(\n",
        "            num_heads=num_heads, key_dim=embed_dim)\n",
        "        self.attention_2 = layers.MultiHeadAttention(\n",
        "            num_heads=num_heads, key_dim=embed_dim)\n",
        "        self.dense_proj = keras.Sequential(\n",
        "            [layers.Dense(dense_dim, activation='relu'),\n",
        "             layers.Dense(embed_dim),]\n",
        "        )\n",
        "        self.layernorm_1 = layers.LayerNormalization()\n",
        "        self.layernorm_2 = layers.LayerNormalization()\n",
        "        self.layernorm_3 = layers.LayerNormalization()\n",
        "        self.supports_masking = True\n",
        "\n",
        "    def get_config(self):\n",
        "        config = super().get_config()\n",
        "        config.update({\n",
        "            'embed_dim': self.embed_dim,\n",
        "            'num_heads': self.num_heads,\n",
        "            'dense_dim': self.dense_dim,\n",
        "        })\n",
        "        return config\n",
        "\n",
        "    def get_causal_attention_mask(self, inputs):\n",
        "        input_shape = tf.shape(inputs)\n",
        "        batch_size, sequence_length = input_shape[0], input_shape[1]\n",
        "        i = tf.range(sequence_length)[:, tf.newaxis]\n",
        "        j = tf.range(sequence_length)\n",
        "        mask = tf.cast(i >= j, dtype='int32')\n",
        "        mask = tf.reshape(mask, (1, input_shape[1], input_shape[1]))\n",
        "        mult = tf.concat(\n",
        "            [tf.expand_dims(batch_size, -1),\n",
        "             tf.constant([1, 1], dtype=tf.int32)], axis=0)\n",
        "        return tf.tile(mask, mult)\n",
        "\n",
        "    def call(self, inputs, encoder_outputs, mask=None):\n",
        "        causal_mask = self.get_causal_attention_mask(inputs)\n",
        "        if mask is not None:\n",
        "            padding_mask = tf.cast(\n",
        "                mask[:, tf.newaxis, :], dtype='int32')\n",
        "            padding_mask = tf.minimum(padding_mask, causal_mask)\n",
        "        else:\n",
        "            padding_mask = mask\n",
        "        attention_output_1 = self.attention_1(\n",
        "            query=inputs,\n",
        "            value=inputs,\n",
        "            key=inputs,\n",
        "            attention_mask=causal_mask)\n",
        "        attention_output_1 = self.layernorm_1(inputs + attention_output_1)\n",
        "        attention_output_2 = self.attention_2(\n",
        "            query=attention_output_1,\n",
        "            value=encoder_outputs,\n",
        "            key=encoder_outputs,\n",
        "            attention_mask=padding_mask,\n",
        "        )\n",
        "        attention_output_2 = self.layernorm_2(\n",
        "            attention_output_1 + attention_output_2)\n",
        "        proj_output = self.dense_proj(attention_output_2)\n",
        "        return self.layernorm_3(attention_output_2 + proj_output)"
      ]
    },
    {
      "cell_type": "code",
      "execution_count": 14,
      "metadata": {
        "id": "3RvzDZQ8LnRj"
      },
      "outputs": [],
      "source": [
        "class TransformerEncoder(layers.Layer):\n",
        "    def __init__(self, embed_dim, dense_dim, num_heads, **kwargs):\n",
        "        super().__init__(**kwargs)\n",
        "        self.embed_dim = embed_dim\n",
        "        self.dense_dim = dense_dim\n",
        "        self.num_heads = num_heads\n",
        "        self.attention = layers.MultiHeadAttention(\n",
        "            num_heads=num_heads, key_dim=embed_dim)\n",
        "        self.dense_proj = keras.Sequential(\n",
        "            [layers.Dense(dense_dim, activation='relu'),\n",
        "             layers.Dense(embed_dim),]\n",
        "        )\n",
        "        self.layernorm_1 = layers.LayerNormalization()\n",
        "        self.layernorm_2 = layers.LayerNormalization()\n",
        "\n",
        "    def call(self, inputs, mask=None):\n",
        "        if mask is not None:\n",
        "            mask = mask[:, tf.newaxis, :]\n",
        "        attention_output = self.attention(\n",
        "            inputs, inputs, attention_mask=mask)\n",
        "        proj_input = self.layernorm_1(inputs + attention_output)\n",
        "        proj_output = self.dense_proj(proj_input)\n",
        "        return self.layernorm_2(proj_input + proj_output)\n",
        "\n",
        "    def get_config(self):\n",
        "        config = super().get_config()\n",
        "        config.update({\n",
        "            'embed_dim': self.embed_dim,\n",
        "            'num_heads': self.num_heads,\n",
        "            'dense_dim': self.dense_dim,\n",
        "        })\n",
        "        return config"
      ]
    },
    {
      "cell_type": "code",
      "execution_count": 15,
      "metadata": {
        "id": "26oxo_tQKptm"
      },
      "outputs": [],
      "source": [
        "# In the PositionalEmbedding class, positional embeddings convert each word's position in a sentence into a vector,\n",
        "# Token embeddings turn each word into a vector representing its meaning.\n",
        "# By combining these two types of embeddings, the class helps the model understand both the content of each word and its order in the sentence.\n",
        "class PositionalEmbedding(layers.Layer):\n",
        "    def __init__(self, sequence_length, input_dim, output_dim, **kwargs):\n",
        "        super().__init__(**kwargs)\n",
        "        self.token_embeddings = layers.Embedding(\n",
        "            input_dim=input_dim, output_dim=output_dim)\n",
        "        self.position_embeddings = layers.Embedding(\n",
        "            input_dim=sequence_length, output_dim=output_dim)\n",
        "        self.sequence_length = sequence_length\n",
        "        self.input_dim = input_dim\n",
        "        self.output_dim = output_dim\n",
        "\n",
        "    def call(self, inputs):\n",
        "        # Get the length of the input sequence\n",
        "        length = tf.shape(inputs)[-1]\n",
        "\n",
        "        # Create position indices and apply position embeddings\n",
        "        positions = tf.range(start=0, limit=length, delta=1)\n",
        "        embedded_tokens = self.token_embeddings(inputs)\n",
        "\n",
        "        # Note: The positions tensor should match the batch size for broadcasting\n",
        "        # The positional embeddings need to be expanded to the same shape as `inputs`\n",
        "        embedded_positions = self.position_embeddings(positions)\n",
        "\n",
        "        # Add token and position embeddings\n",
        "        return embedded_tokens + embedded_positions\n",
        "\n",
        "    def get_config(self):\n",
        "        config = super(PositionalEmbedding, self).get_config()\n",
        "        config.update({\n",
        "            'output_dim': self.output_dim,\n",
        "            'sequence_length': self.sequence_length,\n",
        "            'input_dim': self.input_dim,\n",
        "        })\n",
        "        return config"
      ]
    },
    {
      "cell_type": "markdown",
      "metadata": {
        "id": "N8XVY6-IKptm"
      },
      "source": [
        "**End-to-end Transformer**"
      ]
    },
    {
      "cell_type": "code",
      "execution_count": 16,
      "metadata": {
        "id": "cTDRwaT2Kptm"
      },
      "outputs": [],
      "source": [
        "embed_dim = 256\n",
        "dense_dim = 2048\n",
        "num_heads = 8\n",
        "\n",
        "encoder_inputs = keras.Input(shape=(None,), dtype='int64', name='english')\n",
        "x = PositionalEmbedding(sequence_length, vocab_size, embed_dim)(encoder_inputs)\n",
        "encoder_outputs = TransformerEncoder(embed_dim, dense_dim, num_heads)(x)\n",
        "\n",
        "decoder_inputs = keras.Input(shape=(None,), dtype='int64', name='italian')\n",
        "x = PositionalEmbedding(sequence_length, vocab_size, embed_dim)(decoder_inputs)\n",
        "x = TransformerDecoder(embed_dim, dense_dim, num_heads)(x, encoder_outputs)\n",
        "x = layers.Dropout(0.5)(x)\n",
        "decoder_outputs = layers.Dense(vocab_size, activation='softmax')(x)\n",
        "transformer = keras.Model([encoder_inputs, decoder_inputs], decoder_outputs)"
      ]
    },
    {
      "cell_type": "markdown",
      "metadata": {
        "id": "cC9oW3rgKptm"
      },
      "source": [
        "**Training the sequence-to-sequence Transformer**"
      ]
    },
    {
      "cell_type": "code",
      "execution_count": 17,
      "metadata": {
        "colab": {
          "base_uri": "https://localhost:8080/"
        },
        "id": "LOe4_OdUKptm",
        "outputId": "55fe757c-44c5-4493-93e8-568ca3fa3573"
      },
      "outputs": [
        {
          "name": "stdout",
          "output_type": "stream",
          "text": [
            "Epoch 1/15\n",
            "\u001b[1m4134/4134\u001b[0m \u001b[32m━━━━━━━━━━━━━━━━━━━━\u001b[0m\u001b[37m\u001b[0m \u001b[1m132s\u001b[0m 24ms/step - accuracy: 0.7618 - loss: 1.6380 - val_accuracy: 0.8365 - val_loss: 0.8576\n",
            "Epoch 2/15\n",
            "\u001b[1m4134/4134\u001b[0m \u001b[32m━━━━━━━━━━━━━━━━━━━━\u001b[0m\u001b[37m\u001b[0m \u001b[1m66s\u001b[0m 16ms/step - accuracy: 0.8451 - loss: 0.8170 - val_accuracy: 0.8829 - val_loss: 0.5453\n",
            "Epoch 3/15\n",
            "\u001b[1m4134/4134\u001b[0m \u001b[32m━━━━━━━━━━━━━━━━━━━━\u001b[0m\u001b[37m\u001b[0m \u001b[1m66s\u001b[0m 16ms/step - accuracy: 0.8825 - loss: 0.5567 - val_accuracy: 0.9035 - val_loss: 0.4210\n",
            "Epoch 4/15\n",
            "\u001b[1m4134/4134\u001b[0m \u001b[32m━━━━━━━━━━━━━━━━━━━━\u001b[0m\u001b[37m\u001b[0m \u001b[1m66s\u001b[0m 16ms/step - accuracy: 0.9014 - loss: 0.4380 - val_accuracy: 0.9137 - val_loss: 0.3627\n",
            "Epoch 5/15\n",
            "\u001b[1m4134/4134\u001b[0m \u001b[32m━━━━━━━━━━━━━━━━━━━━\u001b[0m\u001b[37m\u001b[0m \u001b[1m66s\u001b[0m 16ms/step - accuracy: 0.9117 - loss: 0.3715 - val_accuracy: 0.9197 - val_loss: 0.3288\n",
            "Epoch 6/15\n",
            "\u001b[1m4134/4134\u001b[0m \u001b[32m━━━━━━━━━━━━━━━━━━━━\u001b[0m\u001b[37m\u001b[0m \u001b[1m66s\u001b[0m 16ms/step - accuracy: 0.9186 - loss: 0.3277 - val_accuracy: 0.9227 - val_loss: 0.3079\n",
            "Epoch 7/15\n",
            "\u001b[1m4134/4134\u001b[0m \u001b[32m━━━━━━━━━━━━━━━━━━━━\u001b[0m\u001b[37m\u001b[0m \u001b[1m66s\u001b[0m 16ms/step - accuracy: 0.9236 - loss: 0.2969 - val_accuracy: 0.9253 - val_loss: 0.2919\n",
            "Epoch 8/15\n",
            "\u001b[1m4134/4134\u001b[0m \u001b[32m━━━━━━━━━━━━━━━━━━━━\u001b[0m\u001b[37m\u001b[0m \u001b[1m66s\u001b[0m 16ms/step - accuracy: 0.9273 - loss: 0.2742 - val_accuracy: 0.9272 - val_loss: 0.2829\n",
            "Epoch 9/15\n",
            "\u001b[1m4134/4134\u001b[0m \u001b[32m━━━━━━━━━━━━━━━━━━━━\u001b[0m\u001b[37m\u001b[0m \u001b[1m66s\u001b[0m 16ms/step - accuracy: 0.9302 - loss: 0.2565 - val_accuracy: 0.9290 - val_loss: 0.2735\n",
            "Epoch 10/15\n",
            "\u001b[1m4134/4134\u001b[0m \u001b[32m━━━━━━━━━━━━━━━━━━━━\u001b[0m\u001b[37m\u001b[0m \u001b[1m66s\u001b[0m 16ms/step - accuracy: 0.9326 - loss: 0.2426 - val_accuracy: 0.9301 - val_loss: 0.2686\n",
            "Epoch 11/15\n",
            "\u001b[1m4134/4134\u001b[0m \u001b[32m━━━━━━━━━━━━━━━━━━━━\u001b[0m\u001b[37m\u001b[0m \u001b[1m66s\u001b[0m 16ms/step - accuracy: 0.9347 - loss: 0.2302 - val_accuracy: 0.9311 - val_loss: 0.2649\n",
            "Epoch 12/15\n",
            "\u001b[1m4134/4134\u001b[0m \u001b[32m━━━━━━━━━━━━━━━━━━━━\u001b[0m\u001b[37m\u001b[0m \u001b[1m66s\u001b[0m 16ms/step - accuracy: 0.9363 - loss: 0.2207 - val_accuracy: 0.9320 - val_loss: 0.2612\n",
            "Epoch 13/15\n",
            "\u001b[1m4134/4134\u001b[0m \u001b[32m━━━━━━━━━━━━━━━━━━━━\u001b[0m\u001b[37m\u001b[0m \u001b[1m66s\u001b[0m 16ms/step - accuracy: 0.9379 - loss: 0.2114 - val_accuracy: 0.9327 - val_loss: 0.2590\n",
            "Epoch 14/15\n",
            "\u001b[1m4134/4134\u001b[0m \u001b[32m━━━━━━━━━━━━━━━━━━━━\u001b[0m\u001b[37m\u001b[0m \u001b[1m66s\u001b[0m 16ms/step - accuracy: 0.9394 - loss: 0.2034 - val_accuracy: 0.9331 - val_loss: 0.2548\n",
            "Epoch 15/15\n",
            "\u001b[1m4134/4134\u001b[0m \u001b[32m━━━━━━━━━━━━━━━━━━━━\u001b[0m\u001b[37m\u001b[0m \u001b[1m66s\u001b[0m 16ms/step - accuracy: 0.9406 - loss: 0.1972 - val_accuracy: 0.9337 - val_loss: 0.2545\n"
          ]
        },
        {
          "data": {
            "text/plain": [
              "<keras.src.callbacks.history.History at 0x78fa8c49cf10>"
            ]
          },
          "execution_count": 17,
          "metadata": {},
          "output_type": "execute_result"
        }
      ],
      "source": [
        "transformer.compile(\n",
        "    optimizer='Adam',\n",
        "    loss='sparse_categorical_crossentropy',\n",
        "    metrics=['accuracy'])\n",
        "\n",
        "transformer.fit(train_ds, epochs=15, validation_data=val_ds)"
      ]
    },
    {
      "cell_type": "markdown",
      "metadata": {
        "id": "9NukdyOXKptm"
      },
      "source": [
        "**Translating new sentences with our Transformer model**"
      ]
    },
    {
      "cell_type": "code",
      "execution_count": 18,
      "metadata": {
        "colab": {
          "base_uri": "https://localhost:8080/"
        },
        "id": "ay_gORK5Kptm",
        "outputId": "ac4f0932-9ce6-4d23-d874-5cb174543d9e"
      },
      "outputs": [
        {
          "name": "stdout",
          "output_type": "stream",
          "text": [
            "-\n",
            "When the sun comes up, I'll get out of bed.\n",
            "[start] quando arriva il sole a letto [end]\n",
            "-\n",
            "We're biased.\n",
            "[start] siamo di parte [end]\n",
            "-\n",
            "Why are you so excited?\n",
            "[start] perché è così emozionato [end]\n",
            "-\n",
            "I was wrong about you.\n",
            "[start] mi sbagliavo su di te [end]\n",
            "-\n",
            "The criminal is still at large.\n",
            "[start] il criminale è ancora grande [end]\n",
            "-\n",
            "You're not sick.\n",
            "[start] non è malata [end]\n",
            "-\n",
            "The box was empty when I opened it.\n",
            "[start] la scatola era vuota quando lho aperta [end]\n",
            "-\n",
            "I'd like to check out tomorrow morning.\n",
            "[start] mi piacerebbe fare lo spesa domani mattina [end]\n",
            "-\n",
            "Is Tom going to live?\n",
            "[start] tom vivrà [end]\n",
            "-\n",
            "That's a pretty tune.\n",
            "[start] È una melodia carina [end]\n",
            "-\n",
            "You won everything.\n",
            "[start] hai vinto tutto [end]\n",
            "-\n",
            "The vegetables are fresh.\n",
            "[start] le verdure sono fresche [end]\n",
            "-\n",
            "Please tell us about your family.\n",
            "[start] per piacere dicci della vostra famiglia [end]\n",
            "-\n",
            "Update the app.\n",
            "[start] [UNK] lapp [end]\n",
            "-\n",
            "What's your poison?\n",
            "[start] qual è il tuo veleno [end]\n",
            "-\n",
            "Just watch me.\n",
            "[start] [UNK] e basta [end]\n",
            "-\n",
            "This car is in good condition.\n",
            "[start] questauto è in buona [end]\n",
            "-\n",
            "He's your son.\n",
            "[start] È tuo figlio [end]\n",
            "-\n",
            "In any case, I must finish this work by tomorrow.\n",
            "[start] in ogni caso devo finire questo lavoro per quel momento [end]\n",
            "-\n",
            "Do you have any further questions to ask?\n",
            "[start] hai ulteriori domande da fare [end]\n"
          ]
        }
      ],
      "source": [
        "ita_vocab = target_vectorization.get_vocabulary()\n",
        "ita_index_lookup = dict(zip(range(len(ita_vocab)), ita_vocab))\n",
        "max_decoded_sentence_length = 20\n",
        "\n",
        "def decode_sequence(input_sentence):\n",
        "    tokenized_input_sentence = source_vectorization([input_sentence])\n",
        "    decoded_sentence = '[start]'\n",
        "    for i in range(max_decoded_sentence_length):\n",
        "        tokenized_target_sentence = target_vectorization(\n",
        "            [decoded_sentence])[:, :-1]\n",
        "        predictions = transformer(\n",
        "            [tokenized_input_sentence, tokenized_target_sentence])\n",
        "        sampled_token_index = np.argmax(predictions[0, i, :])\n",
        "        sampled_token = ita_index_lookup[sampled_token_index]\n",
        "        decoded_sentence += ' ' + sampled_token\n",
        "        if sampled_token == '[end]':\n",
        "            break\n",
        "    return decoded_sentence\n",
        "\n",
        "test_eng_texts = [pair[0] for pair in test_pairs]\n",
        "for _ in range(20):\n",
        "    input_sentence = random.choice(test_eng_texts)\n",
        "    print('-')\n",
        "    print(input_sentence)\n",
        "    print(decode_sequence(input_sentence))"
      ]
    },
    {
      "cell_type": "markdown",
      "metadata": {
        "id": "i93I_FTwfGeX"
      },
      "source": [
        "**Translating a random sentence**"
      ]
    },
    {
      "cell_type": "code",
      "execution_count": 23,
      "metadata": {
        "colab": {
          "base_uri": "https://localhost:8080/"
        },
        "id": "bAX5jDJJZejn",
        "outputId": "d82793ba-8d11-4003-a546-be945a93a66c"
      },
      "outputs": [
        {
          "name": "stdout",
          "output_type": "stream",
          "text": [
            "[start] la mattina è bella [end]\n"
          ]
        }
      ],
      "source": [
        "input_sentence = \"The morning is beautiful.\"\n",
        "print(decode_sequence(input_sentence))"
      ]
    }
  ],
  "metadata": {
    "accelerator": "GPU",
    "colab": {
      "gpuType": "L4",
      "machine_shape": "hm",
      "provenance": []
    },
    "kernelspec": {
      "display_name": "Python 3",
      "name": "python3"
    },
    "language_info": {
      "codemirror_mode": {
        "name": "ipython",
        "version": 3
      },
      "file_extension": ".py",
      "mimetype": "text/x-python",
      "name": "python",
      "nbconvert_exporter": "python",
      "pygments_lexer": "ipython3",
      "version": "3.7.0"
    }
  },
  "nbformat": 4,
  "nbformat_minor": 0
}
